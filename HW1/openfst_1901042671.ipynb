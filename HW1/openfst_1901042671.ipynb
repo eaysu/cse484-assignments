{
 "cells": [
  {
   "cell_type": "code",
   "execution_count": 6,
   "metadata": {},
   "outputs": [],
   "source": [
    "import os\n",
    "\n",
    "# helper funtion that printing obtained fst\n",
    "def write_dot_file(f, base_filename=None):\n",
    "    if base_filename == None:\n",
    "        index = 1\n",
    "        while os.path.exists(f\"fst_visualization_{index}.dot\"):\n",
    "            index += 1\n",
    "        dot_filename = f\"{base_filename}_{index}.dot\"\n",
    "    else:\n",
    "        dot_filename = f\"{base_filename}.dot\"\n",
    "    \n",
    "    f.draw(dot_filename)\n",
    "\n",
    "    return dot_filename"
   ]
  },
  {
   "cell_type": "code",
   "execution_count": 7,
   "metadata": {},
   "outputs": [],
   "source": [
    "import openfst_python as fst\n",
    "\n",
    "# initializing letters into 3 groups\n",
    "f_vowel_arr = ['e', 'i', 'ö', 'ü']\n",
    "b_vowel_arr = ['a', 'ı', 'o', 'u']\n",
    "constonant_arr = ['b', 'c', 'ç', 'd', 'f', 'g', 'ğ', 'h', 'j', 'k', 'l', 'm', 'n', 'p', 'r', 's', 'ş', 't', 'v', 'y', 'z']\n",
    "\n",
    "input_sym = fst.SymbolTable()\n",
    "output_sym = fst.SymbolTable()\n",
    "\n",
    "def fill_inputs(arr):\n",
    "    for i in range (len(arr)):\n",
    "        input_sym.add_symbol(arr[i])\n",
    "\n",
    "def fill_outputs(arr):\n",
    "    for i in range (len(arr)):\n",
    "        output_sym.add_symbol(arr[i])"
   ]
  },
  {
   "cell_type": "code",
   "execution_count": 8,
   "metadata": {},
   "outputs": [],
   "source": [
    "# adding fst symbols \n",
    "input_sym.add_symbol('front_vowel') \n",
    "input_sym.add_symbol('back_vowel')\n",
    "input_sym.add_symbol('consonant')         \n",
    "\n",
    "input_sym.add_symbol('blank')\n",
    "input_sym.add_symbol('+Pl(ler)')  \n",
    "input_sym.add_symbol('+Pl(lar)')\n",
    "output_sym.add_symbol('<>')\n",
    "output_sym.add_symbol('ler') \n",
    "output_sym.add_symbol('lar') \n",
    "\n",
    "fill_inputs(f_vowel_arr)  \n",
    "fill_inputs(b_vowel_arr) \n",
    "fill_inputs(constonant_arr)\n",
    "\n",
    "fill_outputs(f_vowel_arr)  \n",
    "fill_outputs(b_vowel_arr) \n",
    "fill_outputs(constonant_arr)\n",
    "\n",
    "front = input_sym.find('front_vowel') \n",
    "back = input_sym.find('back_vowel') \n",
    "cons = input_sym.find('consonant') \n",
    "suffix_ler = input_sym.find('+Pl(ler)')\n",
    "suffix_lar = input_sym.find('+Pl(lar)') \n",
    "blank = output_sym.find('<>')\n",
    "blank_input = input_sym.find('blank')\n",
    "output_ler = output_sym.find('ler') \n",
    "output_lar = output_sym.find('lar') "
   ]
  },
  {
   "cell_type": "code",
   "execution_count": 9,
   "metadata": {},
   "outputs": [
    {
     "data": {
      "text/plain": [
       "'None_1.dot'"
      ]
     },
     "execution_count": 9,
     "metadata": {},
     "output_type": "execute_result"
    }
   ],
   "source": [
    "# creating a fsm to obtain plural words\n",
    "f = fst.Fst()\n",
    "\n",
    "s0 = f.add_state()\n",
    "s1 = f.add_state()\n",
    "s2 = f.add_state()\n",
    "s3 = f.add_state()\n",
    "\n",
    "f.add_arc(s0, fst.Arc(cons, blank, None, s0))\n",
    "f.add_arc(s0, fst.Arc(front, blank, None, s1))\n",
    "f.add_arc(s0, fst.Arc(back, blank, None, s2))\n",
    "f.add_arc(s1, fst.Arc(cons, blank, None, s1))\n",
    "f.add_arc(s1, fst.Arc(back, blank, None, s2))\n",
    "f.add_arc(s1, fst.Arc(front, blank, None, s1))\n",
    "f.add_arc(s2, fst.Arc(cons, blank, None, s2))\n",
    "f.add_arc(s2, fst.Arc(front, blank, None, s1))\n",
    "f.add_arc(s2, fst.Arc(back, blank, None, s2))\n",
    "f.add_arc(s1, fst.Arc(blank_input, output_ler, None, s3))\n",
    "f.add_arc(s2, fst.Arc(blank_input, output_lar, None, s3))\n",
    "\n",
    "# set s0 state as initial, set s3 state as last state\n",
    "f.set_final(s3)\n",
    "f.set_start(s0)\n",
    "\n",
    "f.set_input_symbols(input_sym)\n",
    "f.set_output_symbols(output_sym)\n",
    "\n",
    "f.arcsort()\n",
    "\n",
    "# printing fsm \n",
    "write_dot_file(f)"
   ]
  },
  {
   "cell_type": "code",
   "execution_count": 17,
   "metadata": {},
   "outputs": [
    {
     "name": "stdout",
     "output_type": "stream",
     "text": [
      "['k', 'a', 'l', 'e', 'm', 'l', 'e', 'r']\n",
      "['k', 'i', 't', 'a', 'p', 'l', 'a', 'r']\n",
      "['o', 'k', 'u', 'l', 'l', 'a', 'r']\n",
      "['a', 'i', 'l', 'e', 'l', 'e', 'r']\n",
      "['t', 'r', 'e', 'n', 'l', 'e', 'r']\n",
      "['k', 'r', 'a', 'v', 'a', 't', 'l', 'a', 'r']\n",
      "['k', 'i', 'l', 'e', 'r', 'l', 'e', 'r']\n",
      "['d', 'u', 'v', 'a', 'r', 'l', 'a', 'r']\n",
      "['h', 'a', 'y', 'v', 'a', 'n', 'l', 'a', 'r']\n",
      "['k', 'o', 'l', 'a', 'j', 'e', 'n', 'l', 'e', 'r']\n"
     ]
    }
   ],
   "source": [
    "# labeling the letters into 3 groups (front vowels, back vowels and consonants)\n",
    "def label_of_c(c):\n",
    "    if c in f_vowel_arr:\n",
    "        return front\n",
    "    elif c in b_vowel_arr:\n",
    "        return back\n",
    "    elif c in constonant_arr:\n",
    "        return cons\n",
    "\n",
    "def transduce_sequence(f, seq):    \n",
    "    seq_len = len(seq)\n",
    "    curr_state = f.start()\n",
    "    output = []\n",
    "    \n",
    "    for i in range(seq_len):\n",
    "        found = False\n",
    "        label = label_of_c(seq[i])\n",
    "        if i == seq_len - 1:\n",
    "            label = blank_input\n",
    "        for arc in f.arcs(curr_state):\n",
    "            if arc.ilabel == label:\n",
    "                output += seq[i]\n",
    "                if i == seq_len - 1:\n",
    "                    output += f.output_symbols().find(arc.olabel)\n",
    "                curr_state = arc.nextstate\n",
    "                found = True\n",
    "                # no need to keep going through other arcs, as it's determinized\n",
    "                break  \n",
    "        if not found:\n",
    "            print(\"Can't transduce the sequence with provided FST\")\n",
    "\n",
    "    return output        \n",
    "\n",
    "word = ['kalem', 'kitap', 'okul', 'aile', 'tren', 'kravat', 'kiler', 'duvar', 'hayvan', 'kolajen']\n",
    "\n",
    "for i in word:\n",
    "    print(transduce_sequence(f, i))"
   ]
  }
 ],
 "metadata": {
  "kernelspec": {
   "display_name": "Python 3",
   "language": "python",
   "name": "python3"
  },
  "language_info": {
   "codemirror_mode": {
    "name": "ipython",
    "version": 3
   },
   "file_extension": ".py",
   "mimetype": "text/x-python",
   "name": "python",
   "nbconvert_exporter": "python",
   "pygments_lexer": "ipython3",
   "version": "3.7.17"
  }
 },
 "nbformat": 4,
 "nbformat_minor": 2
}
